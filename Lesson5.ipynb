{
 "cells": [
  {
   "cell_type": "markdown",
   "metadata": {},
   "source": [
    "### Задания к уроку 4\n",
    "\n",
    "1. Напишите код, моделирующий выпадение поля в рулетке (с учетом поля зеро)."
   ]
  },
  {
   "cell_type": "code",
   "execution_count": 1,
   "metadata": {},
   "outputs": [],
   "source": [
    "%matplotlib inline\n",
    "import numpy as np\n",
    "from matplotlib import pyplot as plt"
   ]
  },
  {
   "cell_type": "code",
   "execution_count": 2,
   "metadata": {},
   "outputs": [
    {
     "data": {
      "text/plain": [
       "{10: 0.026899999999999893,\n",
       " 32: 0.023699999999999912,\n",
       " 7: 0.028399999999999884,\n",
       " 11: 0.026699999999999894,\n",
       " 28: 0.02889999999999988,\n",
       " 12: 0.02879999999999988,\n",
       " 14: 0.0256999999999999,\n",
       " 18: 0.027899999999999887,\n",
       " 34: 0.028199999999999885,\n",
       " 31: 0.0256999999999999,\n",
       " 27: 0.029499999999999877,\n",
       " 5: 0.026699999999999894,\n",
       " 0: 0.026699999999999894,\n",
       " 23: 0.027999999999999886,\n",
       " 24: 0.02759999999999989,\n",
       " 8: 0.0257999999999999,\n",
       " 2: 0.026999999999999892,\n",
       " 36: 0.026899999999999893,\n",
       " 15: 0.0258999999999999,\n",
       " 20: 0.029299999999999878,\n",
       " 25: 0.0256999999999999,\n",
       " 17: 0.026799999999999893,\n",
       " 26: 0.026299999999999896,\n",
       " 30: 0.026599999999999895,\n",
       " 1: 0.025199999999999903,\n",
       " 13: 0.029499999999999877,\n",
       " 21: 0.026699999999999894,\n",
       " 33: 0.029899999999999875,\n",
       " 29: 0.02889999999999988,\n",
       " 35: 0.026299999999999896,\n",
       " 22: 0.02739999999999989,\n",
       " 9: 0.025299999999999902,\n",
       " 4: 0.024699999999999906,\n",
       " 19: 0.023399999999999914,\n",
       " 3: 0.026799999999999893,\n",
       " 6: 0.02899999999999988,\n",
       " 16: 0.02719999999999989}"
      ]
     },
     "execution_count": 2,
     "metadata": {},
     "output_type": "execute_result"
    }
   ],
   "source": [
    "# расчетная вероятность выпадения числа на рулетке = 1/ 37 = 2.7%\n",
    "\n",
    "# количество испытаний:\n",
    "\n",
    "n=10000\n",
    "\n",
    "\n",
    "d={}\n",
    "for i in range(0,n):\n",
    "    score=np.random.randint(0,37)\n",
    "    if score in d:\n",
    "        d[score]+=1/n\n",
    "    else:\n",
    "        d[score]=1/n\n",
    "d\n",
    "    "
   ]
  },
  {
   "cell_type": "markdown",
   "metadata": {},
   "source": [
    "видим, что при большом числе испытаний средняя частота появления определенного значения на рулетке стремится к расчетной вероятности"
   ]
  },
  {
   "cell_type": "markdown",
   "metadata": {},
   "source": [
    "### 2. \n",
    "1) Напишите код, проверяющий любую из теорем сложения или умножения вероятности на примере рулетки или подбрасывания монетки.\n",
    "\n",
    "2) Сгенерируйте десять выборок случайных чисел х0, …, х9.\n",
    "и постройте гистограмму распределения случайной суммы х0+х1+ …+ х9."
   ]
  },
  {
   "cell_type": "code",
   "execution_count": 3,
   "metadata": {},
   "outputs": [
    {
     "data": {
      "text/plain": [
       "0.9999999999999961"
      ]
     },
     "execution_count": 3,
     "metadata": {},
     "output_type": "execute_result"
    }
   ],
   "source": [
    "# 1) проверим сумму полученных частот из 1-го примера\n",
    "\n",
    "sum(d.values())"
   ]
  },
  {
   "cell_type": "markdown",
   "metadata": {},
   "source": [
    "видим, что сумма близка к 1. и появления значений от 0 до 36 образуют полную группу событий "
   ]
  },
  {
   "cell_type": "code",
   "execution_count": 4,
   "metadata": {},
   "outputs": [
    {
     "name": "stdout",
     "output_type": "stream",
     "text": [
      "[8 3 5 8 4 9 7 6 8 1]\n",
      "[3 0 8 1 2 1 4 3 4 2]\n",
      "[0 7 7 4 1 8 6 1 7 8]\n",
      "[8 6 1 5 4 8 8 9 1 0]\n",
      "[9 9 0 2 9 7 7 8 8 2]\n",
      "[3 7 7 6 5 3 2 1 8 2]\n",
      "[5 9 1 1 2 8 9 6 3 0]\n",
      "[0 9 3 9 8 6 2 9 3 8]\n",
      "[0 7 2 3 6 9 7 8 6 7]\n",
      "[7 4 0 7 3 8 8 7 4 4]\n"
     ]
    },
    {
     "data": {
      "text/plain": [
       "[59, 28, 49, 50, 61, 44, 44, 57, 55, 52]"
      ]
     },
     "execution_count": 4,
     "metadata": {},
     "output_type": "execute_result"
    }
   ],
   "source": [
    "# 2) Сгенерируйте десять выборок случайных чисел х0, …, х9.\n",
    "\n",
    "x_sum=[]\n",
    "for i in range(0,10):\n",
    "    x=np.random.randint(0,10,10)\n",
    "    print(x)\n",
    "    x_sum.append(np.sum(x))\n",
    "\n",
    "x_sum\n"
   ]
  },
  {
   "cell_type": "code",
   "execution_count": 5,
   "metadata": {},
   "outputs": [
    {
     "data": {
      "text/plain": [
       "(array([1., 0., 0., 0., 2., 0., 2., 1., 2., 2.]),\n",
       " array([28. , 31.3, 34.6, 37.9, 41.2, 44.5, 47.8, 51.1, 54.4, 57.7, 61. ]),\n",
       " <a list of 10 Patch objects>)"
      ]
     },
     "execution_count": 5,
     "metadata": {},
     "output_type": "execute_result"
    },
    {
     "data": {
      "image/png": "[encoded data removed]",
      "text/plain": [
       "<Figure size 432x288 with 1 Axes>"
      ]
     },
     "metadata": {
      "needs_background": "light"
     },
     "output_type": "display_data"
    }
   ],
   "source": [
    "plt.hist(x_sum)"
   ]
  },
  {
   "cell_type": "markdown",
   "metadata": {},
   "source": [
    "проверим при большом количестве выборок:"
   ]
  },
  {
   "cell_type": "code",
   "execution_count": 6,
   "metadata": {},
   "outputs": [
    {
     "data": {
      "text/plain": [
       "(array([   36.,   806.,  4802., 15191., 27056., 31367., 15146.,  4787.,\n",
       "          764.,    45.]),\n",
       " array([ 9. , 16.2, 23.4, 30.6, 37.8, 45. , 52.2, 59.4, 66.6, 73.8, 81. ]),\n",
       " <a list of 10 Patch objects>)"
      ]
     },
     "execution_count": 6,
     "metadata": {},
     "output_type": "execute_result"
    },
    {
     "data": {
      "image/png": "[encoded data removed]",
      "text/plain": [
       "<Figure size 432x288 with 1 Axes>"
      ]
     },
     "metadata": {
      "needs_background": "light"
     },
     "output_type": "display_data"
    }
   ],
   "source": [
    "x_sum=[]\n",
    "for i in range(0,100000):\n",
    "    x=np.random.randint(0,10,10)\n",
    "    #print(x)\n",
    "    x_sum.append(np.sum(x))\n",
    "\n",
    "plt.hist(x_sum)"
   ]
  },
  {
   "cell_type": "markdown",
   "metadata": {},
   "source": [
    "видим, что раcпределение стремится к нормальному в соответсвии с центраьной предельной теоремой"
   ]
  },
  {
   "cell_type": "markdown",
   "metadata": {},
   "source": [
    "### 3.\n",
    "1) Дополните код Монте-Карло последовательности независимых испытаний расчетом соответствующих вероятностей (через биномиальное распределение) \n",
    "и сравните результаты.\n",
    "\n",
    "2) Повторите расчеты биномиальных коэффициентов и вероятностей k успехов в последовательности из n независимых испытаний, взяв другие значения n и k.\n"
   ]
  },
  {
   "cell_type": "markdown",
   "metadata": {},
   "source": [
    "1) \n",
    "для предыдущей задачи сравним вероятность, того, что в выборке будет ровно 2 9-ки опытным путем, и проверим значение по формуле Бернулли"
   ]
  },
  {
   "cell_type": "code",
   "execution_count": 7,
   "metadata": {},
   "outputs": [
    {
     "data": {
      "text/plain": [
       "19328"
      ]
     },
     "execution_count": 7,
     "metadata": {},
     "output_type": "execute_result"
    }
   ],
   "source": [
    "two_nines=0\n",
    "for i in range(0,100000):\n",
    "    x=np.random.randint(0,10,10)\n",
    "    #print(x)\n",
    "    if list(x).count(9)==2:\n",
    "        two_nines=two_nines+1\n",
    "\n",
    "\n",
    "two_nines    "
   ]
  },
  {
   "cell_type": "code",
   "execution_count": 8,
   "metadata": {},
   "outputs": [
    {
     "data": {
      "text/plain": [
       "1.9328"
      ]
     },
     "execution_count": 8,
     "metadata": {},
     "output_type": "execute_result"
    }
   ],
   "source": [
    "# частота выпадения только 2х девяток\n",
    "\n",
    "two_nines/n"
   ]
  },
  {
   "cell_type": "code",
   "execution_count": 9,
   "metadata": {},
   "outputs": [
    {
     "data": {
      "text/plain": [
       "0.19371024450000007"
      ]
     },
     "execution_count": 9,
     "metadata": {},
     "output_type": "execute_result"
    }
   ],
   "source": [
    "# по формуле Бернулии\n",
    "\n",
    "# вероятность выпадения 2х девяток в одной выборке C_2_10*p^k*q^(n-k)\n",
    "\n",
    "from math import factorial\n",
    "\n",
    "p=1/10\n",
    "q=(1-p)\n",
    "C_2_10=factorial(10)/factorial(2)/factorial(10-2)\n",
    "P_two_nines=C_2_10*p**2*q**8\n",
    "P_two_nines\n"
   ]
  },
  {
   "cell_type": "markdown",
   "metadata": {},
   "source": [
    "т.е. частота, полученная опытным путем близка к вероятности, посчитанной по формуле Бернулли"
   ]
  },
  {
   "cell_type": "markdown",
   "metadata": {},
   "source": [
    "2) посчитаем множители из формулы Бернулли для k=4 и n=20"
   ]
  },
  {
   "cell_type": "code",
   "execution_count": 10,
   "metadata": {},
   "outputs": [
    {
     "data": {
      "text/plain": [
       "0.013327585685111273"
      ]
     },
     "execution_count": 10,
     "metadata": {},
     "output_type": "execute_result"
    }
   ],
   "source": [
    "k=4\n",
    "n=20\n",
    "\n",
    "p=1/n\n",
    "q=(1-p)\n",
    "C_k_n=factorial(n)/factorial(k)/factorial(n-k)\n",
    "P_4_nines=C_k_n*p**k*q**(n-k)\n",
    "P_4_nines"
   ]
  },
  {
   "cell_type": "markdown",
   "metadata": {},
   "source": [
    "### 4. \n",
    "Из урока по комбинаторике повторите расчеты, сгенерировав возможные варианты перестановок для других значений n и k"
   ]
  },
  {
   "cell_type": "code",
   "execution_count": 11,
   "metadata": {},
   "outputs": [
    {
     "name": "stdout",
     "output_type": "stream",
     "text": [
      "45.0\n",
      "9879.999999999998\n",
      "4.0\n",
      "6.0\n"
     ]
    }
   ],
   "source": [
    "# напишем функцию для сочетаний\n",
    "\n",
    "def Combinations(k,n):\n",
    "    return factorial(n)/factorial(k)/factorial(n-k)\n",
    "\n",
    "print(Combinations(2,10))\n",
    "print(Combinations(3,40))\n",
    "print(Combinations(3,4))\n",
    "print(Combinations(2,4))\n"
   ]
  },
  {
   "cell_type": "code",
   "execution_count": 12,
   "metadata": {},
   "outputs": [
    {
     "name": "stdout",
     "output_type": "stream",
     "text": [
      "90.0\n",
      "59280.0\n",
      "24.0\n",
      "12.0\n",
      "24.0\n"
     ]
    }
   ],
   "source": [
    "# напишем функцию для размещений\n",
    "\n",
    "def Arrangements(k,n):\n",
    "    return factorial(n)/factorial(n-k)\n",
    "\n",
    "print(Arrangements(2,10))\n",
    "print(Arrangements(3,40))\n",
    "print(Arrangements(3,4))\n",
    "print(Arrangements(2,4))\n",
    "print(Arrangements(4,4))"
   ]
  },
  {
   "cell_type": "markdown",
   "metadata": {},
   "source": [
    "### 5. \n",
    "Дополните код расчетом коэффициента корреляции x и y по формуле\n"
   ]
  },
  {
   "cell_type": "markdown",
   "metadata": {},
   "source": [
    "Возьмем 2 вектора x и ax+b:"
   ]
  },
  {
   "cell_type": "code",
   "execution_count": 13,
   "metadata": {},
   "outputs": [
    {
     "name": "stdout",
     "output_type": "stream",
     "text": [
      "[0.25 0.57 0.41 0.62 0.56 0.96 0.22 0.18 0.26 0.57 0.62 0.67 0.87 0.43\n",
      " 0.54 0.92 0.55 0.92 0.08 0.24 0.37 0.38 0.51 0.13 0.45 0.98 0.77 0.32\n",
      " 0.03 0.75 0.46 0.43 0.56 0.65 0.53 0.95 0.84 0.42 0.09 0.9  0.85 0.85\n",
      " 0.07 0.16 0.73 0.71 0.23 0.68 0.33 0.55]\n",
      "[0.64 0.25 0.42 0.82 0.27 0.81 0.84 0.15 0.19 0.9  0.72 0.39 0.71 0.44\n",
      " 0.19 0.61 0.68 0.61 0.64 0.14 0.21 0.83 0.64 0.53 0.27 0.97 0.68 0.84\n",
      " 0.76 0.4  0.77 0.68 0.89 0.29 0.55 0.97 0.91 0.87 0.3  0.89 0.71 0.97\n",
      " 0.45 0.21 0.81 0.57 0.37 0.58 0.68 0.45]\n"
     ]
    }
   ],
   "source": [
    "x=np.random.rand(50)\n",
    "a=0.2\n",
    "b=(1-a)*np.random.rand(50)\n",
    "y=a*x+b\n",
    "print(np.round(x,2))\n",
    "print(np.round(y,2))"
   ]
  },
  {
   "cell_type": "code",
   "execution_count": 14,
   "metadata": {},
   "outputs": [
    {
     "data": {
      "text/plain": [
       "0.5225593600764159"
      ]
     },
     "execution_count": 14,
     "metadata": {},
     "output_type": "execute_result"
    }
   ],
   "source": [
    "x_mean=x.sum()/x.shape[0]\n",
    "x_mean"
   ]
  },
  {
   "cell_type": "code",
   "execution_count": 15,
   "metadata": {},
   "outputs": [
    {
     "data": {
      "text/plain": [
       "0.5885538373984869"
      ]
     },
     "execution_count": 15,
     "metadata": {},
     "output_type": "execute_result"
    }
   ],
   "source": [
    "y_mean=y.sum()/y.shape[0]\n",
    "y_mean"
   ]
  },
  {
   "cell_type": "code",
   "execution_count": 16,
   "metadata": {},
   "outputs": [
    {
     "data": {
      "text/plain": [
       "0.42431146763205996"
      ]
     },
     "execution_count": 16,
     "metadata": {},
     "output_type": "execute_result"
    }
   ],
   "source": [
    "R=((x-x_mean)*(y-y_mean)).sum()/np.sqrt(((x-x_mean)**2).sum()*((y-y_mean)**2).sum())\n",
    "\n",
    "R"
   ]
  },
  {
   "cell_type": "code",
   "execution_count": 17,
   "metadata": {},
   "outputs": [
    {
     "data": {
      "text/plain": [
       "array([[1.        , 0.42431147],\n",
       "       [0.42431147, 1.        ]])"
      ]
     },
     "execution_count": 17,
     "metadata": {},
     "output_type": "execute_result"
    }
   ],
   "source": [
    "np.corrcoef(x,y)"
   ]
  },
  {
   "cell_type": "markdown",
   "metadata": {},
   "source": [
    "видим, что расчетный коэффициент равен значению, полченноу встроенным методом np.corrcoef(x,y)"
   ]
  },
  {
   "cell_type": "code",
   "execution_count": null,
   "metadata": {},
   "outputs": [],
   "source": []
  }
 ],
 "metadata": {
  "kernelspec": {
   "display_name": "Python 3",
   "language": "python",
   "name": "python3"
  },
  "language_info": {
   "codemirror_mode": {
    "name": "ipython",
    "version": 3
   },
   "file_extension": ".py",
   "mimetype": "text/x-python",
   "name": "python",
   "nbconvert_exporter": "python",
   "pygments_lexer": "ipython3",
   "version": "3.7.3"
  }
 },
 "nbformat": 4,
 "nbformat_minor": 2
}
